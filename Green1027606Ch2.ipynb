{
 "cells": [
  {
   "cell_type": "markdown",
   "metadata": {},
   "source": [
    "# Homework Chapter 02\n",
    "## Daniel Green\n",
    "### 1027606\n",
    "\n",
    "Dr. Babb,\n",
    "\n",
    "Good afternoon.  I was more comfortable with the environment with this assignment but had to redo it a few times to get it correct, none of it being without heavy use of references.\n",
    "\n",
    "Respectfully,\n",
    "Daniel Green\n",
    "\n",
    "resources used:  https://www.datacamp.com/community/blog/python-pandas-cheat-sheet?utm_source=adwords_ppc&utm_campaignid=1655852085&utm_adgroupid=77088685371&utm_device=c&utm_keyword=%2Bpandas%20%2Bcheat%20%2Bsheet&utm_matchtype=b&utm_network=g&utm_adpostion=&utm_creative=353755544532&utm_targetid=aud-1282405912307:kwd-589281899014&utm_loc_interest_ms=&utm_loc_physical_ms=9053366&gclid=CjwKCAjwqvyFBhB7EiwAER786cBaY52Q81X1qg193ejQIPwpQ7uGAhafIDIDraE9Ceg_evXLtk74_BoCwZIQAvD_BwE"
   ]
  },
  {
   "cell_type": "code",
   "execution_count": 12,
   "metadata": {},
   "outputs": [],
   "source": [
    "import pandas as pd\n",
    "# importing a csv\n",
    "df = pd.read_csv('../../ch_02/data/parsed.csv')\n",
    "# printing out df (dataframe) will then show you what the imorted data\n",
    "#df (uncomment to see data)"
   ]
  },
  {
   "cell_type": "markdown",
   "metadata": {},
   "source": [
    "## Exercise 1\n",
    "Find the 95th percentile of earthquake magnitude in Japan using the mb magnitude type."
   ]
  },
  {
   "cell_type": "code",
   "execution_count": 2,
   "metadata": {},
   "outputs": [
    {
     "data": {
      "text/plain": [
       "4.9"
      ]
     },
     "execution_count": 2,
     "metadata": {},
     "output_type": "execute_result"
    }
   ],
   "source": [
    "# \n",
    "df[\n",
    "    (df.parsed_place == 'Japan') & (df.magType == 'mb')\n",
    "].mag.quantile(0.95)\n",
    "# enter percentile as a decimal"
   ]
  },
  {
   "cell_type": "markdown",
   "metadata": {},
   "source": [
    "## Exercise 2\n",
    "Find the precentage of earthquakes in Indonesia that were coupled with tsunamis."
   ]
  },
  {
   "cell_type": "code",
   "execution_count": 13,
   "metadata": {},
   "outputs": [
    {
     "data": {
      "text/plain": [
       "'23.13%'"
      ]
     },
     "execution_count": 13,
     "metadata": {},
     "output_type": "execute_result"
    }
   ],
   "source": [
    "f\"{df[df.parsed_place == 'Indonesia'].tsunami.value_counts(normalize=True).iloc[1,]:.2%}\"\n",
    "#he min-max approach (often called normalization) rescales the feature to a hard and fast range of [0,1] by subtracting the minimum value of the feature then dividing by the range.\n"
   ]
  },
  {
   "cell_type": "markdown",
   "metadata": {},
   "source": [
    "## Exercise 3\n",
    "Calculate summary statistics for earthquakes in Nevada."
   ]
  },
  {
   "cell_type": "code",
   "execution_count": 15,
   "metadata": {},
   "outputs": [
    {
     "data": {
      "text/html": [
       "<div>\n",
       "<style scoped>\n",
       "    .dataframe tbody tr th:only-of-type {\n",
       "        vertical-align: middle;\n",
       "    }\n",
       "\n",
       "    .dataframe tbody tr th {\n",
       "        vertical-align: top;\n",
       "    }\n",
       "\n",
       "    .dataframe thead th {\n",
       "        text-align: right;\n",
       "    }\n",
       "</style>\n",
       "<table border=\"1\" class=\"dataframe\">\n",
       "  <thead>\n",
       "    <tr style=\"text-align: right;\">\n",
       "      <th></th>\n",
       "      <th>cdi</th>\n",
       "      <th>dmin</th>\n",
       "      <th>felt</th>\n",
       "      <th>gap</th>\n",
       "      <th>mag</th>\n",
       "      <th>mmi</th>\n",
       "      <th>nst</th>\n",
       "      <th>rms</th>\n",
       "      <th>sig</th>\n",
       "      <th>time</th>\n",
       "      <th>tsunami</th>\n",
       "      <th>tz</th>\n",
       "      <th>updated</th>\n",
       "    </tr>\n",
       "  </thead>\n",
       "  <tbody>\n",
       "    <tr>\n",
       "      <th>count</th>\n",
       "      <td>15.000000</td>\n",
       "      <td>681.000000</td>\n",
       "      <td>15.000000</td>\n",
       "      <td>681.000000</td>\n",
       "      <td>681.000000</td>\n",
       "      <td>1.00</td>\n",
       "      <td>681.000000</td>\n",
       "      <td>681.000000</td>\n",
       "      <td>681.000000</td>\n",
       "      <td>6.810000e+02</td>\n",
       "      <td>681.0</td>\n",
       "      <td>681.0</td>\n",
       "      <td>6.810000e+02</td>\n",
       "    </tr>\n",
       "    <tr>\n",
       "      <th>mean</th>\n",
       "      <td>2.440000</td>\n",
       "      <td>0.166199</td>\n",
       "      <td>2.400000</td>\n",
       "      <td>153.668120</td>\n",
       "      <td>0.500073</td>\n",
       "      <td>2.84</td>\n",
       "      <td>12.618209</td>\n",
       "      <td>0.151986</td>\n",
       "      <td>10.970631</td>\n",
       "      <td>1.538314e+12</td>\n",
       "      <td>0.0</td>\n",
       "      <td>-480.0</td>\n",
       "      <td>1.538402e+12</td>\n",
       "    </tr>\n",
       "    <tr>\n",
       "      <th>std</th>\n",
       "      <td>0.501142</td>\n",
       "      <td>0.166228</td>\n",
       "      <td>4.626013</td>\n",
       "      <td>68.735302</td>\n",
       "      <td>0.696710</td>\n",
       "      <td>NaN</td>\n",
       "      <td>9.866963</td>\n",
       "      <td>0.084662</td>\n",
       "      <td>19.607150</td>\n",
       "      <td>5.965637e+08</td>\n",
       "      <td>0.0</td>\n",
       "      <td>0.0</td>\n",
       "      <td>6.010951e+08</td>\n",
       "    </tr>\n",
       "    <tr>\n",
       "      <th>min</th>\n",
       "      <td>2.000000</td>\n",
       "      <td>0.001000</td>\n",
       "      <td>1.000000</td>\n",
       "      <td>29.140000</td>\n",
       "      <td>-0.500000</td>\n",
       "      <td>2.84</td>\n",
       "      <td>3.000000</td>\n",
       "      <td>0.000500</td>\n",
       "      <td>0.000000</td>\n",
       "      <td>1.537247e+12</td>\n",
       "      <td>0.0</td>\n",
       "      <td>-480.0</td>\n",
       "      <td>1.537307e+12</td>\n",
       "    </tr>\n",
       "    <tr>\n",
       "      <th>25%</th>\n",
       "      <td>2.000000</td>\n",
       "      <td>0.053000</td>\n",
       "      <td>1.000000</td>\n",
       "      <td>97.380000</td>\n",
       "      <td>-0.100000</td>\n",
       "      <td>2.84</td>\n",
       "      <td>6.000000</td>\n",
       "      <td>0.106900</td>\n",
       "      <td>0.000000</td>\n",
       "      <td>1.537854e+12</td>\n",
       "      <td>0.0</td>\n",
       "      <td>-480.0</td>\n",
       "      <td>1.537928e+12</td>\n",
       "    </tr>\n",
       "    <tr>\n",
       "      <th>50%</th>\n",
       "      <td>2.200000</td>\n",
       "      <td>0.112000</td>\n",
       "      <td>1.000000</td>\n",
       "      <td>149.140000</td>\n",
       "      <td>0.400000</td>\n",
       "      <td>2.84</td>\n",
       "      <td>10.000000</td>\n",
       "      <td>0.146300</td>\n",
       "      <td>2.000000</td>\n",
       "      <td>1.538280e+12</td>\n",
       "      <td>0.0</td>\n",
       "      <td>-480.0</td>\n",
       "      <td>1.538428e+12</td>\n",
       "    </tr>\n",
       "    <tr>\n",
       "      <th>75%</th>\n",
       "      <td>2.900000</td>\n",
       "      <td>0.233000</td>\n",
       "      <td>1.000000</td>\n",
       "      <td>199.720000</td>\n",
       "      <td>0.900000</td>\n",
       "      <td>2.84</td>\n",
       "      <td>16.000000</td>\n",
       "      <td>0.187100</td>\n",
       "      <td>12.000000</td>\n",
       "      <td>1.538821e+12</td>\n",
       "      <td>0.0</td>\n",
       "      <td>-480.0</td>\n",
       "      <td>1.538878e+12</td>\n",
       "    </tr>\n",
       "    <tr>\n",
       "      <th>max</th>\n",
       "      <td>3.300000</td>\n",
       "      <td>1.414000</td>\n",
       "      <td>19.000000</td>\n",
       "      <td>355.910000</td>\n",
       "      <td>2.900000</td>\n",
       "      <td>2.84</td>\n",
       "      <td>61.000000</td>\n",
       "      <td>0.863400</td>\n",
       "      <td>129.000000</td>\n",
       "      <td>1.539461e+12</td>\n",
       "      <td>0.0</td>\n",
       "      <td>-480.0</td>\n",
       "      <td>1.539483e+12</td>\n",
       "    </tr>\n",
       "  </tbody>\n",
       "</table>\n",
       "</div>"
      ],
      "text/plain": [
       "             cdi        dmin       felt         gap         mag   mmi  \\\n",
       "count  15.000000  681.000000  15.000000  681.000000  681.000000  1.00   \n",
       "mean    2.440000    0.166199   2.400000  153.668120    0.500073  2.84   \n",
       "std     0.501142    0.166228   4.626013   68.735302    0.696710   NaN   \n",
       "min     2.000000    0.001000   1.000000   29.140000   -0.500000  2.84   \n",
       "25%     2.000000    0.053000   1.000000   97.380000   -0.100000  2.84   \n",
       "50%     2.200000    0.112000   1.000000  149.140000    0.400000  2.84   \n",
       "75%     2.900000    0.233000   1.000000  199.720000    0.900000  2.84   \n",
       "max     3.300000    1.414000  19.000000  355.910000    2.900000  2.84   \n",
       "\n",
       "              nst         rms         sig          time  tsunami     tz  \\\n",
       "count  681.000000  681.000000  681.000000  6.810000e+02    681.0  681.0   \n",
       "mean    12.618209    0.151986   10.970631  1.538314e+12      0.0 -480.0   \n",
       "std      9.866963    0.084662   19.607150  5.965637e+08      0.0    0.0   \n",
       "min      3.000000    0.000500    0.000000  1.537247e+12      0.0 -480.0   \n",
       "25%      6.000000    0.106900    0.000000  1.537854e+12      0.0 -480.0   \n",
       "50%     10.000000    0.146300    2.000000  1.538280e+12      0.0 -480.0   \n",
       "75%     16.000000    0.187100   12.000000  1.538821e+12      0.0 -480.0   \n",
       "max     61.000000    0.863400  129.000000  1.539461e+12      0.0 -480.0   \n",
       "\n",
       "            updated  \n",
       "count  6.810000e+02  \n",
       "mean   1.538402e+12  \n",
       "std    6.010951e+08  \n",
       "min    1.537307e+12  \n",
       "25%    1.537928e+12  \n",
       "50%    1.538428e+12  \n",
       "75%    1.538878e+12  \n",
       "max    1.539483e+12  "
      ]
     },
     "execution_count": 15,
     "metadata": {},
     "output_type": "execute_result"
    }
   ],
   "source": [
    "df[df.parsed_place == 'Nevada'].describe()\n",
    "# Descriptive statistics include those that summarize the central tendency, dispersion and shape of a dataset’s distribution, excluding NaN values.\n",
    "# Analyzes both numeric and object series, as well as DataFrame column sets of mixed data types. The output will vary depending on what is provided. Refer to the notes below for more detail.\n",
    "#https://pandas.pydata.org/pandas-docs/stable/reference/api/pandas.DataFrame.describe.html"
   ]
  },
  {
   "cell_type": "markdown",
   "metadata": {},
   "source": [
    "## Exercise 4\n",
    "Note we need to use `^Mexico` to get Mexico, but not New Mexico.\n",
    "Addd a column indicating whether the earthquake happened in a country or US state that is on the Ring of Fire.  Use Alaska, Antartica (look for antarctic), Bolivia, California, Canada, Chile, Costa Rica, Ecuador, Fiji, Guatemala, Indonesia, Japan, Kermadec Islands, Mexico (be careful not to select New Mexico), New Zealand, Peru, Philippines, Russia, Taiwan, Tonga and Washington."
   ]
  },
  {
   "cell_type": "code",
   "execution_count": 5,
   "metadata": {},
   "outputs": [],
   "source": [
    "df['ring_of_fire'] = df.parsed_place.str.contains(r'|'.join([\n",
    "    'Alaska', 'Antarctic', 'Bolivia', 'California', 'Canada',\n",
    "    'Chile', 'Costa Rica', 'Ecuador', 'Fiji', 'Guatemala',\n",
    "    'Indonesia', 'Japan', 'Kermadec Islands', '^Mexico',\n",
    "    'New Zealand', 'Peru', 'Philippines', 'Russia',\n",
    "    'Taiwan', 'Tonga', 'Washington' \n",
    "]))\n",
    "#similar/same as sql"
   ]
  },
  {
   "cell_type": "markdown",
   "metadata": {},
   "source": [
    "## Exercise 5\n",
    "Calculate the number of earthquakes in the Ring of Fire locations and the number outside them."
   ]
  },
  {
   "cell_type": "code",
   "execution_count": 6,
   "metadata": {},
   "outputs": [
    {
     "data": {
      "text/plain": [
       "True     7188\n",
       "False    2144\n",
       "Name: ring_of_fire, dtype: int64"
      ]
     },
     "execution_count": 6,
     "metadata": {},
     "output_type": "execute_result"
    }
   ],
   "source": [
    "df.ring_of_fire.value_counts()\n",
    "#https://pandas.pydata.org/pandas-docs/stable/reference/api/pandas.DataFrame.value_counts.html"
   ]
  },
  {
   "cell_type": "markdown",
   "metadata": {},
   "source": [
    "## Exercise 6\n",
    "Find the tsunami count along the Ring of Fire."
   ]
  },
  {
   "cell_type": "code",
   "execution_count": 7,
   "metadata": {},
   "outputs": [
    {
     "data": {
      "text/plain": [
       "45"
      ]
     },
     "execution_count": 7,
     "metadata": {},
     "output_type": "execute_result"
    }
   ],
   "source": [
    "df.loc[df.ring_of_fire, 'tsunami'].sum()\n",
    "#access the loc inside dataframe and in brackets then look at the ring_of_fire value and then add them"
   ]
  },
  {
   "cell_type": "markdown",
   "metadata": {},
   "source": [
    "<hr>\n",
    "<div>\n",
    "    <a href=\"../../ch_02/6-adding_and_removing_data.ipynb\">\n",
    "        <button>&#8592; Chapter 2</button>\n",
    "    </a>\n",
    "    <a href=\"../../ch_03/1-wide_vs_long.ipynb\">\n",
    "        <button style=\"float: right;\">Chapter 3 &#8594;</button>\n",
    "    </a>\n",
    "</div>\n",
    "<hr>"
   ]
  },
  {
   "cell_type": "code",
   "execution_count": null,
   "metadata": {},
   "outputs": [],
   "source": []
  }
 ],
 "metadata": {
  "kernelspec": {
   "display_name": "Python 3",
   "language": "python",
   "name": "python3"
  },
  "language_info": {
   "codemirror_mode": {
    "name": "ipython",
    "version": 3
   },
   "file_extension": ".py",
   "mimetype": "text/x-python",
   "name": "python",
   "nbconvert_exporter": "python",
   "pygments_lexer": "ipython3",
   "version": "3.8.8"
  }
 },
 "nbformat": 4,
 "nbformat_minor": 4
}
